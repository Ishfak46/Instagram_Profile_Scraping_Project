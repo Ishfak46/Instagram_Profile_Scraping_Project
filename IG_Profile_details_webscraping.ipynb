{
  "nbformat": 4,
  "nbformat_minor": 0,
  "metadata": {
    "colab": {
      "provenance": [],
      "gpuType": "T4",
      "authorship_tag": "ABX9TyN1CkMoR32GXjZ3D5iff3Rv",
      "include_colab_link": true
    },
    "kernelspec": {
      "name": "python3",
      "display_name": "Python 3"
    },
    "language_info": {
      "name": "python"
    },
    "accelerator": "GPU"
  },
  "cells": [
    {
      "cell_type": "markdown",
      "metadata": {
        "id": "view-in-github",
        "colab_type": "text"
      },
      "source": [
        "<a href=\"https://colab.research.google.com/github/Ishfak46/Instagram_Profile_Scraping_Project/blob/main/IG_Profile_details_webscraping.ipynb\" target=\"_parent\"><img src=\"https://colab.research.google.com/assets/colab-badge.svg\" alt=\"Open In Colab\"/></a>"
      ]
    },
    {
      "cell_type": "code",
      "source": [
        "# Import the module\n",
        "!pip install instaloader\n",
        "import instaloader\n",
        "\n",
        "# Create an instance of Instaloader class\n",
        "bot = instaloader.Instaloader()\n",
        "\n",
        "# Load a profile from an Instagram handle\n",
        "profile = instaloader.Profile.from_username(bot.context, '_.noorul_')\n",
        "\n",
        "print(type(profile))"
      ],
      "metadata": {
        "colab": {
          "base_uri": "https://localhost:8080/"
        },
        "id": "OK5KaGOwrG3p",
        "outputId": "00e26165-070d-4cd2-8380-72d6e41b5b84"
      },
      "execution_count": null,
      "outputs": [
        {
          "output_type": "stream",
          "name": "stdout",
          "text": [
            "Requirement already satisfied: instaloader in /usr/local/lib/python3.10/dist-packages (4.12.1)\n",
            "Requirement already satisfied: requests>=2.4 in /usr/local/lib/python3.10/dist-packages (from instaloader) (2.32.3)\n",
            "Requirement already satisfied: charset-normalizer<4,>=2 in /usr/local/lib/python3.10/dist-packages (from requests>=2.4->instaloader) (3.3.2)\n",
            "Requirement already satisfied: idna<4,>=2.5 in /usr/local/lib/python3.10/dist-packages (from requests>=2.4->instaloader) (3.7)\n",
            "Requirement already satisfied: urllib3<3,>=1.21.1 in /usr/local/lib/python3.10/dist-packages (from requests>=2.4->instaloader) (1.26.19)\n",
            "Requirement already satisfied: certifi>=2017.4.17 in /usr/local/lib/python3.10/dist-packages (from requests>=2.4->instaloader) (2024.7.4)\n",
            "<class 'instaloader.structures.Profile'>\n"
          ]
        }
      ]
    },
    {
      "cell_type": "code",
      "source": [
        "print(\"Username: \", profile.username)\n",
        "print(\"User ID: \", profile.userid)\n",
        "print(\"Number of Posts: \", profile.mediacount)\n",
        "print(\"Followers: \", profile.followers)\n",
        "print(\"Followees: \", profile.followees)\n",
        "print(\"Bio: \", profile.biography,profile.external_url)"
      ],
      "metadata": {
        "colab": {
          "base_uri": "https://localhost:8080/"
        },
        "id": "l-QmuUvorG6m",
        "outputId": "541335ea-2089-4a92-a241-0b4e29513881"
      },
      "execution_count": null,
      "outputs": [
        {
          "output_type": "stream",
          "name": "stdout",
          "text": [
            "Username:  _.noorul_\n",
            "User ID:  39922228307\n",
            "Number of Posts:  2\n",
            "Followers:  550\n",
            "Followees:  601\n",
            "Bio:  .\n",
            "𝙉𝙤𝙩 𝙖𝙣 𝙣𝙤𝙧𝙢𝙖𝙡 𝙝𝙪𝙢𝙖𝙣👽\n",
            "𝘗𝘦𝘳𝘧𝘦𝘤𝘵 𝘮𝘪𝘴𝘵𝘢𝘬𝘦∆ None\n"
          ]
        }
      ]
    },
    {
      "cell_type": "code",
      "source": [],
      "metadata": {
        "id": "kINtdhglrwWT"
      },
      "execution_count": null,
      "outputs": []
    },
    {
      "cell_type": "code",
      "source": [],
      "metadata": {
        "id": "n5ffReXKrwTU"
      },
      "execution_count": null,
      "outputs": []
    },
    {
      "cell_type": "code",
      "source": [],
      "metadata": {
        "id": "MqjlpSIGrwOO"
      },
      "execution_count": null,
      "outputs": []
    }
  ]
}